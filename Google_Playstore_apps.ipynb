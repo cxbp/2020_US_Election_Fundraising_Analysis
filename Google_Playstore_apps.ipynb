{
 "cells": [
  {
   "cell_type": "code",
   "execution_count": 69,
   "metadata": {},
   "outputs": [
    {
     "name": "stdout",
     "output_type": "stream",
     "text": [
      "--2019-11-26 04:47:45--  https://gwu-mileypiao888.s3.amazonaws.com/Google_Playstore.csv\n",
      "Resolving gwu-mileypiao888.s3.amazonaws.com (gwu-mileypiao888.s3.amazonaws.com)... 52.217.42.44\n",
      "Connecting to gwu-mileypiao888.s3.amazonaws.com (gwu-mileypiao888.s3.amazonaws.com)|52.217.42.44|:443... connected.\n",
      "HTTP request sent, awaiting response... 200 OK\n",
      "Length: 27585705 (26M) [text/csv]\n",
      "Saving to: ‘Google_Playstore.csv’\n",
      "\n",
      "Google_Playstore.cs 100%[===================>]  26.31M  61.1MB/s    in 0.4s    \n",
      "\n",
      "2019-11-26 04:47:45 (61.1 MB/s) - ‘Google_Playstore.csv’ saved [27585705/27585705]\n",
      "\n"
     ]
    }
   ],
   "source": [
    "!wget https://gwu-mileypiao888.s3.amazonaws.com/Google_Playstore.csv"
   ]
  },
  {
   "cell_type": "code",
   "execution_count": 3,
   "metadata": {},
   "outputs": [
    {
     "name": "stdout",
     "output_type": "stream",
     "text": [
      "ipython-sql==0.3.9\n",
      "psycopg2==2.7.5\n",
      "psycopg2-binary==2.7.5\n"
     ]
    }
   ],
   "source": [
    "!pip freeze | grep -E 'ipython-sql|psycopg2'"
   ]
  },
  {
   "cell_type": "code",
   "execution_count": 4,
   "metadata": {},
   "outputs": [],
   "source": [
    "!dropdb -U student Group1"
   ]
  },
  {
   "cell_type": "code",
   "execution_count": 60,
   "metadata": {},
   "outputs": [
    {
     "name": "stdout",
     "output_type": "stream",
     "text": [
      "createdb: database creation failed: ERROR:  database \"Group1\" already exists\n"
     ]
    }
   ],
   "source": [
    "!createdb -U student Group1"
   ]
  },
  {
   "cell_type": "code",
   "execution_count": 6,
   "metadata": {},
   "outputs": [],
   "source": [
    "%load_ext sql"
   ]
  },
  {
   "cell_type": "code",
   "execution_count": 9,
   "metadata": {},
   "outputs": [
    {
     "data": {
      "text/plain": [
       "'Connected: student@Group1'"
      ]
     },
     "execution_count": 9,
     "metadata": {},
     "output_type": "execute_result"
    }
   ],
   "source": [
    "%sql postgresql://student@/Group1"
   ]
  },
  {
   "cell_type": "code",
   "execution_count": 71,
   "metadata": {},
   "outputs": [
    {
     "name": "stdout",
     "output_type": "stream",
     "text": [
      " * postgresql://student@/Group1\n",
      "Done.\n",
      "Done.\n"
     ]
    },
    {
     "data": {
      "text/plain": [
       "[]"
      ]
     },
     "execution_count": 71,
     "metadata": {},
     "output_type": "execute_result"
    }
   ],
   "source": [
    "%%sql\n",
    "DROP TABLE IF EXISTS Google_Playstore Cascade;\n",
    "\n",
    "CREATE TABLE Google_Playstore (\n",
    "APP_ID VARCHAR(10) NOT NULL,\n",
    "APP_NAME VARCHAR(100),\n",
    "CATE_NAME VARCHAR(50),\n",
    "RATING NUMERIC(3,2),\n",
    "REVIEW NUMERIC(25),\n",
    "INSTALL VARCHAR(25),\n",
    "SIZE_NUMBER VARCHAR(10),\n",
    "SIZE_MAGNITUDE VARCHAR(10),\n",
    "PRICE NUMERIC(10,2),\n",
    "CONTENT_RATING VARCHAR(25),\n",
    "LAST_UPDATE_DATE VARCHAR(25),\n",
    "LAST_UPDATE_YEAR VARCHAR(4),\n",
    "MIN_VERSION VARCHAR(25),\n",
    "LATEST_VERSION VARCHAR(100),\n",
    "    \n",
    "    PRIMARY KEY(APP_ID),\n",
    "    UNIQUE (APP_ID)\n",
    ");"
   ]
  },
  {
   "cell_type": "code",
   "execution_count": 72,
   "metadata": {},
   "outputs": [
    {
     "name": "stdout",
     "output_type": "stream",
     "text": [
      " * postgresql://student@/Group1\n",
      "266994 rows affected.\n"
     ]
    },
    {
     "data": {
      "text/plain": [
       "[]"
      ]
     },
     "execution_count": 72,
     "metadata": {},
     "output_type": "execute_result"
    }
   ],
   "source": [
    "%%sql\n",
    "COPY Google_Playstore FROM '/home/ubuntu/Google_Playstore.csv' DELIMITER ',';"
   ]
  },
  {
   "cell_type": "code",
   "execution_count": null,
   "metadata": {},
   "outputs": [],
   "source": []
  }
 ],
 "metadata": {
  "kernelspec": {
   "display_name": "Python 3",
   "language": "python",
   "name": "python3"
  },
  "language_info": {
   "codemirror_mode": {
    "name": "ipython",
    "version": 3
   },
   "file_extension": ".py",
   "mimetype": "text/x-python",
   "name": "python",
   "nbconvert_exporter": "python",
   "pygments_lexer": "ipython3",
   "version": "3.5.3"
  }
 },
 "nbformat": 4,
 "nbformat_minor": 2
}
